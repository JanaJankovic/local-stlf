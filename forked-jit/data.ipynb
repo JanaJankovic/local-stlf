{
 "cells": [
  {
   "cell_type": "code",
   "execution_count": null,
   "id": "782036bc",
   "metadata": {},
   "outputs": [],
   "source": [
    "import pandas as pd\n",
    "\n",
    "data = pd.read_csv(\"your_data.csv\", sep=\";\", decimal=\",\", parse_dates=[\"ts\"])\n",
    "data = data.set_index(\"ts\")\n",
    "data = data.sum(axis=1).to_frame(name=\"cntr\")\n",
    "data.rename_axis(\"Date_Time\", inplace=True)\n",
    "\n",
    "# Save to Parquet for use in JITrans\n",
    "data.to_parquet(\"prepared_data.parquet\")\n"
   ]
  }
 ],
 "metadata": {
  "kernelspec": {
   "display_name": "3.10.6",
   "language": "python",
   "name": "python3"
  },
  "language_info": {
   "name": "python",
   "version": "3.10.6"
  }
 },
 "nbformat": 4,
 "nbformat_minor": 5
}
