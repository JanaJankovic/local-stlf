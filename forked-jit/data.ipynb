{
 "cells": [
  {
   "cell_type": "code",
   "execution_count": 2,
   "id": "17859d47",
   "metadata": {},
   "outputs": [
    {
     "name": "stdout",
     "output_type": "stream",
     "text": [
      "Collecting pyarrow\n",
      "  Downloading pyarrow-20.0.0-cp310-cp310-win_amd64.whl (25.8 MB)\n",
      "     --------------------------------------- 25.8/25.8 MB 54.5 MB/s eta 0:00:00\n",
      "Collecting fastparquet\n",
      "  Downloading fastparquet-2024.11.0-cp310-cp310-win_amd64.whl (670 kB)\n",
      "     ---------------------------------------- 670.7/670.7 KB ? eta 0:00:00\n",
      "Requirement already satisfied: packaging in c:\\users\\janav\\.pyenv\\pyenv-win\\versions\\3.10.5\\lib\\site-packages (from fastparquet) (24.2)\n",
      "Requirement already satisfied: fsspec in c:\\users\\janav\\.pyenv\\pyenv-win\\versions\\3.10.5\\lib\\site-packages (from fastparquet) (2025.3.2)\n",
      "Collecting cramjam>=2.3\n",
      "  Downloading cramjam-2.10.0-cp310-cp310-win_amd64.whl (1.7 MB)\n",
      "     ---------------------------------------- 1.7/1.7 MB 54.5 MB/s eta 0:00:00\n",
      "Requirement already satisfied: numpy in c:\\users\\janav\\.pyenv\\pyenv-win\\versions\\3.10.5\\lib\\site-packages (from fastparquet) (2.1.3)\n",
      "Requirement already satisfied: pandas>=1.5.0 in c:\\users\\janav\\.pyenv\\pyenv-win\\versions\\3.10.5\\lib\\site-packages (from fastparquet) (2.2.3)\n",
      "Requirement already satisfied: python-dateutil>=2.8.2 in c:\\users\\janav\\.pyenv\\pyenv-win\\versions\\3.10.5\\lib\\site-packages (from pandas>=1.5.0->fastparquet) (2.9.0.post0)\n",
      "Requirement already satisfied: tzdata>=2022.7 in c:\\users\\janav\\.pyenv\\pyenv-win\\versions\\3.10.5\\lib\\site-packages (from pandas>=1.5.0->fastparquet) (2025.2)\n",
      "Requirement already satisfied: pytz>=2020.1 in c:\\users\\janav\\.pyenv\\pyenv-win\\versions\\3.10.5\\lib\\site-packages (from pandas>=1.5.0->fastparquet) (2025.1)\n",
      "Requirement already satisfied: six>=1.5 in c:\\users\\janav\\.pyenv\\pyenv-win\\versions\\3.10.5\\lib\\site-packages (from python-dateutil>=2.8.2->pandas>=1.5.0->fastparquet) (1.17.0)\n",
      "Installing collected packages: pyarrow, cramjam, fastparquet\n",
      "Successfully installed cramjam-2.10.0 fastparquet-2024.11.0 pyarrow-20.0.0\n",
      "Note: you may need to restart the kernel to use updated packages.\n"
     ]
    },
    {
     "name": "stderr",
     "output_type": "stream",
     "text": [
      "WARNING: You are using pip version 22.0.4; however, version 25.1.1 is available.\n",
      "You should consider upgrading via the 'c:\\Users\\janav\\.pyenv\\pyenv-win\\versions\\3.10.5\\python.exe -m pip install --upgrade pip' command.\n"
     ]
    }
   ],
   "source": [
    "%pip install pyarrow fastparquet"
   ]
  },
  {
   "cell_type": "code",
   "execution_count": null,
   "id": "782036bc",
   "metadata": {},
   "outputs": [],
   "source": [
    "import pandas as pd\n",
    "\n",
    "data = pd.read_csv(\"data/mm79158.csv\", sep=\";\", decimal=\",\", parse_dates=[\"ts\"])\n",
    "data = data.set_index(\"ts\")\n",
    "#data = data.sum(axis=1).to_frame(name=\"cntr\")\n",
    "data.rename_axis(\"Date_Time\", inplace=True)\n",
    "\n",
    "# Save to Parquet for use in JITrans\n",
    "data.to_parquet(\"prepared_data.parquet\")\n"
   ]
  }
 ],
 "metadata": {
  "kernelspec": {
   "display_name": "3.10.5",
   "language": "python",
   "name": "python3"
  },
  "language_info": {
   "codemirror_mode": {
    "name": "ipython",
    "version": 3
   },
   "file_extension": ".py",
   "mimetype": "text/x-python",
   "name": "python",
   "nbconvert_exporter": "python",
   "pygments_lexer": "ipython3",
   "version": "3.10.5"
  }
 },
 "nbformat": 4,
 "nbformat_minor": 5
}
